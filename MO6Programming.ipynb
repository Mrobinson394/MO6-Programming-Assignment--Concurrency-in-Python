{
 "cells": [
  {
   "cell_type": "code",
   "execution_count": null,
   "id": "6d858355-96d5-4d6a-8dfe-199c99d71243",
   "metadata": {},
   "outputs": [],
   "source": [
    "from datetime import datetime\n",
    "\n",
    "# Get the current date as a string\n",
    "current_date = datetime.now().strftime(\"%Y-%m-%d\")\n",
    "\n",
    "# Write the date to a file named `today.txt`\n",
    "with open('today.txt', 'w') as file:\n",
    "    file.write(current_date)\n"
   ]
  },
  {
   "cell_type": "code",
   "execution_count": null,
   "id": "b633f568-fd98-405c-903c-3f3acda0d589",
   "metadata": {},
   "outputs": [],
   "source": [
    "# Read the text file `today.txt` into the string `today_string`\n",
    "with open('today.txt', 'r') as file:\n",
    "    today_string = file.read()\n",
    "\n",
    "today_string  # Output the string to confirm it has been read correctly\n"
   ]
  },
  {
   "cell_type": "code",
   "execution_count": null,
   "id": "6ad7696e-571f-481d-a6e6-1f88ada71d96",
   "metadata": {},
   "outputs": [],
   "source": [
    "# Parse the date from `today_string`\n",
    "parsed_date = datetime.strptime(today_string, \"%Y-%m-%d\")\n",
    "parsed_date  # Output the parsed date\n"
   ]
  },
  {
   "cell_type": "code",
   "execution_count": null,
   "id": "8e7b1697-ea81-4b9e-9dff-26f4103b1375",
   "metadata": {},
   "outputs": [],
   "source": [
    "import multiprocessing\n",
    "import random\n",
    "import time\n",
    "from datetime import datetime\n",
    "\n",
    "def print_time():\n",
    "    wait_time = random.uniform(0, 1)  # Generate random wait time between 0 and 1 second\n",
    "    time.sleep(wait_time)  # Wait for the random duration\n",
    "    print(f\"Process waited for {wait_time:.2f} seconds. Current time: {datetime.now()}\")\n",
    "\n",
    "# Create three separate processes\n",
    "if __name__ == '__main__':\n",
    "    processes = [multiprocessing.Process(target=print_time) for _ in range(3)]\n",
    "\n",
    "    # Start all processes\n",
    "    for process in processes:\n",
    "        process.start()\n",
    "\n",
    "    # Wait for all processes to complete\n",
    "    for process in processes:\n",
    "        process.join()  # Ensures each process finishes execution\n"
   ]
  }
 ],
 "metadata": {
  "kernelspec": {
   "display_name": "Python 3 (ipykernel)",
   "language": "python",
   "name": "python3"
  },
  "language_info": {
   "codemirror_mode": {
    "name": "ipython",
    "version": 3
   },
   "file_extension": ".py",
   "mimetype": "text/x-python",
   "name": "python",
   "nbconvert_exporter": "python",
   "pygments_lexer": "ipython3",
   "version": "3.12.4"
  }
 },
 "nbformat": 4,
 "nbformat_minor": 5
}
